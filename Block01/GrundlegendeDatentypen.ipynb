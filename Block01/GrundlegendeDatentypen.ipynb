{
 "cells": [
  {
   "cell_type": "markdown",
   "metadata": {},
   "source": [
    "# 1 Arithmetische Operationen"
   ]
  },
  {
   "cell_type": "markdown",
   "metadata": {},
   "source": [
    "\n",
    "In Python gibt es folgende arithmetische Operatoren:\n",
    "\n",
    "* `+` Addition\n",
    "* `-` Subtraktion\n",
    "* `*` Multiplikation\n",
    "* `/` Division\n",
    "* `%` Modulo (der Rest nach dem Teilen)\n",
    "* `**` Potenzierung (`^` führt in Python eine andere Operation aus!)\n",
    "* `//` Teilt und rundet auf die nächste ganze Zahl ab \n",
    "\n",
    "Es gelten die übliche Regeln für mathematische Operationen (Klammern zuerst, Punkt vor Strich, usw.). "
   ]
  },
  {
   "cell_type": "code",
   "execution_count": null,
   "metadata": {},
   "outputs": [],
   "source": [
    "# Lass es uns sogleich ausprobieren!"
   ]
  },
  {
   "cell_type": "code",
   "execution_count": null,
   "metadata": {},
   "outputs": [],
   "source": [
    "# Hier kannst du experimentieren!"
   ]
  },
  {
   "cell_type": "markdown",
   "metadata": {},
   "source": [
    "## Aufgaben:\n",
    "Aufgabe 1:\n",
    "* Meine Stromrechnungen in den letzten drei Monaten betrugen 23, 32 und 64 €. Was ist die durchschnittliche monatliche Stromrechnung über den Zeitraum von drei Monaten? \n",
    "* Extra: Verwende `print()`, um das Ergebnis anzuzeigen."
   ]
  },
  {
   "cell_type": "code",
   "execution_count": null,
   "metadata": {},
   "outputs": [],
   "source": [
    "# Aufgabe 1: Antwort "
   ]
  },
  {
   "cell_type": "markdown",
   "metadata": {},
   "source": [
    "Aufgabe 2:\n",
    "\n",
    "Zwei Teile eines Bodens müssen gefliest werden. Ein Teil ist 9 Fliesen breit und 7 Fliesen lang, der andere ist 5 Fliesen breit und 7 Fliesen lang. Fliesen kommen in Paketen à 6 Stück.  \n",
    "* Wie viele Fliesen werden benötigt?\n",
    "* Du kaufst 17 Fliesenpakete mit jeweils 6 Fliesen. Wie viele Fliesen bleiben übrig? "
   ]
  },
  {
   "cell_type": "code",
   "execution_count": null,
   "metadata": {},
   "outputs": [],
   "source": [
    "# Aufgabe 2: Antwort "
   ]
  },
  {
   "cell_type": "markdown",
   "metadata": {},
   "source": [
    "# 2 Variablen und Zuweisungsoperatoren"
   ]
  },
  {
   "cell_type": "markdown",
   "metadata": {},
   "source": [
    "Beispiel für eine __Variablenvereinbarung__ mit __Zuweisung__:\n",
    "\n",
    "```\n",
    "x = 5\n",
    "```\n",
    "\n",
    "Beispiel für eine __Variablenvereinbarung__ mit __Zuweisung__:\n",
    "\n",
    "\n",
    "Hier passieren mehrere Dinge:\n",
    "* Wir __vereinbaren__ eine Variable mit __Namen/Bezeichner/Identifier/Symbol__ `x`.\n",
    "* `=` ist in der Programmierung ein __Zuweisungsoperator__. \n",
    "\n",
    "Die Syntax lautet stets:\n",
    "```\n",
    "<Name der Variable> = <Wert der Variable>\n",
    "``` \n",
    "  --> `=` _hat in der Programmierung eine andere Bedeutung als in der Mathematik!_\n",
    "* in diesem Beispiel wird `x` der Wert `5` __zugewiesen__.\n"
   ]
  },
  {
   "cell_type": "code",
   "execution_count": null,
   "metadata": {},
   "outputs": [],
   "source": []
  },
  {
   "cell_type": "markdown",
   "metadata": {},
   "source": [
    "Beispiel für eine __Mehrfachzuweisung__:\n",
    "```\n",
    "x,y,z = 1,2,3\n",
    "```\n",
    "\n",
    "Es ist wichtig, _möglichst aussagekräftige Variablennamen_ zu verwenden. bspw. sollten für die Abmessungen eines Gegenstandes folgende Namen verwendet werden:\n",
    "\n",
    "```\n",
    "hoehe,breite,tiefe = 5,2,1\n",
    "```"
   ]
  },
  {
   "cell_type": "code",
   "execution_count": null,
   "metadata": {},
   "outputs": [],
   "source": []
  },
  {
   "cell_type": "markdown",
   "metadata": {},
   "source": [
    "## Konventionen für Variablennamen\n",
    "Für Variablennamen gelten folgende Regeln und/oder Konventionen:\n",
    "* In Python werden _ausschließlich_ Kleinbuchstaben, Zahlen und Unterstriche verwendet, bspw. `anzahl_studenten`.\n",
    "    * Variablennamen dürfen nicht mit einer Zahl beginnen.\n",
    "* Einige Begriffe wie `list, dict, class` (und viele weitere) sind __Schlüsselbegriffe__, d.h. diese sind für Python reserviert und sollten nicht verwendet werden. Du wirst im Laufe des Kurses zahlreiche Schlüsselbegriffe kennenlernen.\n",
    "* Die pythonsche Art, Variablen zu benennen, wird auch `snake_case` genannt. Es existieren weitere Konventionen wie `Kebab-Case`, `PascalCase` (auch `UpperCamelCase` genannt) oder `lowerCamelCase`. Siehe [hier](https://stackoverflow.com/questions/17326185/what-are-the-different-kinds-of-cases). "
   ]
  },
  {
   "cell_type": "code",
   "execution_count": null,
   "metadata": {},
   "outputs": [],
   "source": []
  },
  {
   "cell_type": "markdown",
   "metadata": {},
   "source": [
    "## Zuweisungsoperatoren\n",
    "Angenommen, in einem Ort lebten ursprünglich 880 Menschen. Im Laufe eines Jahres ziehen 30 Menschen dorthin und 20 wieder weg:\n",
    "\n",
    "```python\n",
    "population = 880\n",
    "population = population+30 #Zuzug\n",
    "print(population, \" (nach Zuzug)\")\n",
    "population = population-20 #Wegzug\n",
    "print(population, \" (nach Wegzug)\")\n",
    "```\n",
    "\n",
    "* In diesem Beispiel wurde die Variable `population` zweimal geändert. \n",
    "* Zudem wurde das Beispiel mit Kommentaren, bspw. `#Zuzug` versehen. In Python können __Kommentare__ durch Voranstellen eines Hash-Symbols `#` eingefügt werden. Alles hinter dem `#` wird von Python ignoriert."
   ]
  },
  {
   "cell_type": "code",
   "execution_count": null,
   "metadata": {},
   "outputs": [],
   "source": []
  },
  {
   "cell_type": "markdown",
   "metadata": {},
   "source": [
    "Betrachten wir folgenden Ausschnitt etwas genauer:\n",
    "```python\n",
    "population = 880\n",
    "population = population+30 #Zuzug\n",
    "```\n",
    "1. Zunächst wird die Variable `population` mit Wert 880 belegt.\n",
    "1. Als nächstes wird der Wert von `population` aktualisiert gemäß dem Schema\n",
    "    * rechts von \"`=`\" Berechne den neuen Wert\n",
    "    * links von \"`=`\" Überschreibe `population` mit dem neu berechneten Wert."
   ]
  },
  {
   "cell_type": "code",
   "execution_count": null,
   "metadata": {},
   "outputs": [],
   "source": []
  },
  {
   "cell_type": "markdown",
   "metadata": {},
   "source": [
    "## Aufgaben"
   ]
  },
  {
   "cell_type": "markdown",
   "metadata": {},
   "source": [
    "### 1. Aufgabe: Regentonne\n",
    "Eine Regentonne enthält 100 Liter Wasser. Dieser Wert wird in `volume` gespeichert. Es ist warm und trocken, so dass 12% des Volumens verdunsten. Alsdann werden 50 Liter zwecks Bewässerung des Gartens entnommen. Welchen Wert nimmt `volume` am Ende an? "
   ]
  },
  {
   "cell_type": "code",
   "execution_count": null,
   "metadata": {},
   "outputs": [],
   "source": []
  },
  {
   "cell_type": "markdown",
   "metadata": {},
   "source": [
    "### 2. Quiz: Beziehungen zwischen Variablen\n",
    "Angenommen, wir vereinbaren die folgenden Variablen:\n",
    "```python\n",
    "carrots = 24\n",
    "rabbits = 8\n",
    "crs_per_rab = carrots/rabbits\n",
    "```\n",
    "\n",
    "Was passiert mit `crs_per_rab`, falls wir als nächstes die Anweisung\n",
    "```python\n",
    "rabbits = 12\n",
    "```\n",
    "einfügen? Mache dir zunächst Gedanken, welche Möglichkeit(en) plausibel wäre(n), bevor du das in Python umsetzt."
   ]
  },
  {
   "cell_type": "code",
   "execution_count": null,
   "metadata": {},
   "outputs": [],
   "source": []
  },
  {
   "cell_type": "markdown",
   "metadata": {},
   "source": [
    "### 3. Quiz: Variablenbezeichner\n",
    "Welche der folgenden Variablenbezeichner in den folgenden Zuweisungen zulässig?\n",
    "* `my_class = 20`\n",
    "* `MYCLASS = 20`\n",
    "* `1class = 20`\n",
    "* `class = 20`"
   ]
  },
  {
   "cell_type": "code",
   "execution_count": null,
   "metadata": {},
   "outputs": [],
   "source": []
  },
  {
   "cell_type": "markdown",
   "metadata": {},
   "source": [
    "# Navigation\n",
    "[zurück zu \"Block 01\"](../Block01/README.md)"
   ]
  }
 ],
 "metadata": {
  "kernelspec": {
   "display_name": "Python 3",
   "language": "python",
   "name": "python3"
  },
  "language_info": {
   "codemirror_mode": {
    "name": "ipython",
    "version": 3
   },
   "file_extension": ".py",
   "mimetype": "text/x-python",
   "name": "python",
   "nbconvert_exporter": "python",
   "pygments_lexer": "ipython3",
   "version": "3.11.6"
  }
 },
 "nbformat": 4,
 "nbformat_minor": 2
}
