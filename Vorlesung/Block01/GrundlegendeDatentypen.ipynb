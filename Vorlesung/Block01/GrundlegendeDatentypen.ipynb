{
 "cells": [
  {
   "cell_type": "markdown",
   "metadata": {},
   "source": [
    "\n",
    "In Python gibt es folgende arithmetische Operatoren:\n",
    "\n",
    "* `+` Addition\n",
    "* `-` Subtraktion\n",
    "* `*` Multiplikation\n",
    "* `/` Division\n",
    "* `%` Modulo (der Rest nach dem Teilen)\n",
    "* `**` Potenzierung (`^` führt in Python eine andere Operation aus!)\n",
    "* `//` Teilt und rundet auf die nächste ganze Zahl ab \n",
    "\n",
    "Es gelten die übliche Regeln für mathematische Operationen (Klammern zuerst, Punkt vor Strich, usw.). "
   ]
  },
  {
   "cell_type": "code",
   "execution_count": null,
   "metadata": {},
   "outputs": [],
   "source": [
    "# Lass es uns sogleich ausprobieren!"
   ]
  },
  {
   "cell_type": "code",
   "execution_count": null,
   "metadata": {},
   "outputs": [],
   "source": [
    "# Hier kannst du experimentieren!"
   ]
  },
  {
   "cell_type": "markdown",
   "metadata": {},
   "source": [
    "## 1.1 Aufgaben:\n",
    "Aufgabe 1:\n",
    "* Meine Stromrechnungen in den letzten drei Monaten betrugen 23, 32 und 64 €. Was ist die durchschnittliche monatliche Stromrechnung über den Zeitraum von drei Monaten? \n",
    "* Extra: `print()`, um das Ergebnis anzuzeigen."
   ]
  },
  {
   "cell_type": "code",
   "execution_count": null,
   "metadata": {},
   "outputs": [],
   "source": [
    "# Aufgabe 1: Antwort "
   ]
  },
  {
   "cell_type": "markdown",
   "metadata": {},
   "source": [
    "Aufgabe 2:\n",
    "Zwei Teile eines Bodens müssen gefliest werden. Ein Teil ist 9 Fliesen breit und 7 Fliesen lang, der andere ist 5 Fliesen breit und 7 Fliesen lang. Fliesen kommen in Paketen à 6 Stück.  \n",
    "    * Wie viele Fliesen werden benötigt?\n",
    "    * Du kaufst 17 Fliesenpakete mit jeweils 6 Fliesen. Wie viele Fliesen bleiben übrig? "
   ]
  },
  {
   "cell_type": "code",
   "execution_count": null,
   "metadata": {},
   "outputs": [],
   "source": [
    "# Aufgabe 2: Antwort "
   ]
  },
  {
   "cell_type": "markdown",
   "metadata": {},
   "source": [
    "Beispiel für eine __Variablenvereinbarung__ mit __Zuweisung__:\n",
    "``` \n",
    "x = 5\n",
    "```\n",
    "Hier passieren mehrere Dinge:\n",
    "* Wir __vereinbaren__ eine Variable mit __Namen/Bezeichner/Identifier/Symbol__ `x`.\n",
    "* `=` ist in der Programmierung ein __Zuweisungsoperator__. Die Syntax lautet stets:\n",
    "```\n",
    "<Name der Variable> = <Wert der Variable>\n",
    "``` \n",
    "  --> `=` _hat in der Programmierung eine andere Bedeutung als in der Mathematik!_\n",
    "* in diesem Beispiel wird `x` der Wert `5` __zugewiesen__."
   ]
  }
 ],
 "metadata": {
  "kernelspec": {
   "display_name": "Python 3",
   "language": "python",
   "name": "python3"
  },
  "language_info": {
   "codemirror_mode": {
    "name": "ipython",
    "version": 3
   },
   "file_extension": ".py",
   "mimetype": "text/x-python",
   "name": "python",
   "nbconvert_exporter": "python",
   "pygments_lexer": "ipython3",
   "version": "3.11.6"
  }
 },
 "nbformat": 4,
 "nbformat_minor": 2
}
