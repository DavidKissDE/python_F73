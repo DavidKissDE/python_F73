{
 "cells": [
  {
   "cell_type": "markdown",
   "metadata": {},
   "source": [
    "# 0 Jupyter Notebooks in Colab laden"
   ]
  },
  {
   "cell_type": "markdown",
   "metadata": {},
   "source": [
    "\n",
    "Was du hier siehst ist ein __Jupyter Notebook__. Ein Jupyter Notebook ist...\n",
    "1. eine Python Datei mit zusätzlichen Funktionalitäten. Jupyter Notebooks besitzen die Dateiendung `.ipynb`\n",
    "1. eine einfache __Entwicklungsumgebung__ (engl. __integrated development environment (IDE)__), d.h. ein Tool, mit dessen Hilfe man Software schreiben kann.  "
   ]
  },
  {
   "cell_type": "markdown",
   "metadata": {},
   "source": [
    "Jupyter Notebooks eignen sich perfekt zur Einführung in Python, lass uns einfach loslegen!\n",
    "* Öffne [Google Colab](https://colab.research.google.com/), ggf. musst du einen Account erstellen und dich einloggen.\n",
    "* Klicke auf `File/Open notebook`\n",
    "\n",
    "![Open Colab Notebook](assets/colab1.png)\n",
    "\n",
    "* Links Speicherort `Github` auswählen, bei \"Enter a GitHub URL\" `DavidKissDE/python_F73` eingeben und suchen.\n",
    "* Notebook `GrundlegendeDatentypen.ipynb`  auswählen.\n",
    "\n",
    "![Open Colab Notebook](assets/colab2.png)\n"
   ]
  },
  {
   "cell_type": "markdown",
   "metadata": {},
   "source": [
    "# 1 Arithmetische Operationen"
   ]
  },
  {
   "cell_type": "markdown",
   "metadata": {},
   "source": [
    "\n",
    "In Python gibt es folgende arithmetische Operatoren:\n",
    "\n",
    "* `+` Addition\n",
    "* `-` Subtraktion\n",
    "* `*` Multiplikation\n",
    "* `/` Division\n",
    "* `%` Modulo (der Rest nach dem Teilen)\n",
    "* `**` Potenzierung (`^` führt in Python eine andere Operation aus!)\n",
    "* `//` Teilt und rundet auf die nächste ganze Zahl ab \n",
    "\n",
    "Es gelten die übliche Regeln für mathematische Operationen (Klammern zuerst, Punkt vor Strich, usw.). "
   ]
  },
  {
   "cell_type": "code",
   "execution_count": null,
   "metadata": {},
   "outputs": [],
   "source": [
    "# Lass es uns sogleich ausprobieren!"
   ]
  },
  {
   "cell_type": "code",
   "execution_count": null,
   "metadata": {},
   "outputs": [],
   "source": [
    "# Hier kannst du experimentieren!"
   ]
  },
  {
   "cell_type": "markdown",
   "metadata": {},
   "source": [
    "## 1.1 Aufgaben:\n",
    "Aufgabe 1:\n",
    "* Meine Stromrechnungen in den letzten drei Monaten betrugen 23, 32 und 64 €. Was ist die durchschnittliche monatliche Stromrechnung über den Zeitraum von drei Monaten? \n",
    "* Extra: `print()`, um das Ergebnis anzuzeigen."
   ]
  },
  {
   "cell_type": "code",
   "execution_count": null,
   "metadata": {},
   "outputs": [],
   "source": [
    "# Aufgabe 1: Antwort "
   ]
  },
  {
   "cell_type": "markdown",
   "metadata": {},
   "source": [
    "Aufgabe 2:\n",
    "Zwei Teile eines Bodens müssen gefliest werden. Ein Teil ist 9 Fliesen breit und 7 Fliesen lang, der andere ist 5 Fliesen breit und 7 Fliesen lang. Fliesen kommen in Paketen à 6 Stück.  \n",
    "    * Wie viele Fliesen werden benötigt?\n",
    "    * Du kaufst 17 Fliesenpakete mit jeweils 6 Fliesen. Wie viele Fliesen bleiben übrig? "
   ]
  },
  {
   "cell_type": "code",
   "execution_count": null,
   "metadata": {},
   "outputs": [],
   "source": [
    "# Aufgabe 2: Antwort "
   ]
  },
  {
   "cell_type": "markdown",
   "metadata": {},
   "source": [
    "# 2 Variablen und Zuweisungsoperatoren"
   ]
  },
  {
   "cell_type": "markdown",
   "metadata": {},
   "source": [
    "Beispiel für eine __Variablenvereinbarung__ mit __Zuweisung__:\n",
    "\n",
    "```\n",
    "x = 5\n",
    "```\n",
    "\n",
    "Beispiel für eine __Variablenvereinbarung__ mit __Zuweisung__:\n",
    "\n",
    "\n",
    "Hier passieren mehrere Dinge:\n",
    "* Wir __vereinbaren__ eine Variable mit __Namen/Bezeichner/Identifier/Symbol__ `x`.\n",
    "* `=` ist in der Programmierung ein __Zuweisungsoperator__. \n",
    "\n",
    "Die Syntax lautet stets:\n",
    "```\n",
    "<Name der Variable> = <Wert der Variable>\n",
    "``` \n",
    "  --> `=` _hat in der Programmierung eine andere Bedeutung als in der Mathematik!_\n",
    "* in diesem Beispiel wird `x` der Wert `5` __zugewiesen__.\n"
   ]
  },
  {
   "cell_type": "code",
   "execution_count": null,
   "metadata": {},
   "outputs": [],
   "source": []
  },
  {
   "cell_type": "markdown",
   "metadata": {},
   "source": [
    "Beispiel für eine __Mehrfachzuweisung__:\n",
    "```\n",
    "x,y,z = 1,2,3\n",
    "```\n",
    "\n",
    "Es ist wichtig, _möglichst aussagekräftige Variablennamen_ zu verwenden. bspw. sollten für die Abmessungen eines Gegenstandes folgende Namen verwendet werden:\n",
    "\n",
    "```\n",
    "hoehe,breite,tiefe = 5,2,1\n",
    "```"
   ]
  },
  {
   "cell_type": "code",
   "execution_count": null,
   "metadata": {},
   "outputs": [],
   "source": []
  },
  {
   "cell_type": "markdown",
   "metadata": {},
   "source": [
    "## Konventionen für Variablennamen\n",
    "Für Variablennamen gelten folgende Regeln und/oder Konventionen:\n",
    "* In Python werden _ausschließlich_ Kleinbuchstaben, Zahlen und Unterstriche verwendet, bspw. `anzahl_studenten`.\n",
    "    * Variablennamen dürfen nicht mit einer Zahl beginnen.\n",
    "* Einige Begriffe wie `list, dict, class` (und viele weitere) sind __Schlüsselbegriffe__, d.h. diese sind für Python reserviert und sollten nicht verwendet werden. Du wirst im Laufe des Kurses zahlreiche Schlüsselbegriffe kennenlernen.\n",
    "* Die pythonsche Art, Variablen zu benennen, wird auch `snake_case` genannt. Es existieren weitere Konventionen wie `Kebab-Case`, `PascalCase` (auch `UpperCamelCase` genannt) oder `lowerCamelCase`. Siehe [hier](https://stackoverflow.com/questions/17326185/what-are-the-different-kinds-of-cases). "
   ]
  }
 ],
 "metadata": {
  "kernelspec": {
   "display_name": "Python 3",
   "language": "python",
   "name": "python3"
  },
  "language_info": {
   "codemirror_mode": {
    "name": "ipython",
    "version": 3
   },
   "file_extension": ".py",
   "mimetype": "text/x-python",
   "name": "python",
   "nbconvert_exporter": "python",
   "pygments_lexer": "ipython3",
   "version": "3.11.6"
  }
 },
 "nbformat": 4,
 "nbformat_minor": 2
}
