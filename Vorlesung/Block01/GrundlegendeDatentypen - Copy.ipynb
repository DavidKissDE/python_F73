{
 "cells": [
  {
   "cell_type": "code",
   "execution_count": null,
   "metadata": {},
   "outputs": [],
   "source": []
  },
  {
   "cell_type": "code",
   "execution_count": null,
   "metadata": {},
   "outputs": [],
   "source": []
  },
  {
   "cell_type": "markdown",
   "metadata": {},
   "source": [
    "### Zusammengesetzte Zuweisungsoperatoren\n",
    "Python kennt sog. __zusammengesetzte__ oder __verkürzte__ __Zuweisungsoperatoren__ (Engl. \"in-place operators\"). Mit deren Hilfe kann die Zuweisung\n",
    "```python\n",
    "population = population+30\n",
    "```\n",
    "wie folgt _verkürzt_ ausgedrückt werden:\n",
    "```python\n",
    "population += 30\n",
    "```"
   ]
  }
 ],
 "metadata": {
  "kernelspec": {
   "display_name": "Python 3",
   "language": "python",
   "name": "python3"
  },
  "language_info": {
   "codemirror_mode": {
    "name": "ipython",
    "version": 3
   },
   "file_extension": ".py",
   "mimetype": "text/x-python",
   "name": "python",
   "nbconvert_exporter": "python",
   "pygments_lexer": "ipython3",
   "version": "3.11.6"
  }
 },
 "nbformat": 4,
 "nbformat_minor": 2
}
