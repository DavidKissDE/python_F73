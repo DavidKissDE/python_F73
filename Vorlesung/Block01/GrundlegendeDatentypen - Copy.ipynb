{
 "cells": [
  {
   "cell_type": "code",
   "execution_count": null,
   "metadata": {},
   "outputs": [],
   "source": []
  },
  {
   "cell_type": "markdown",
   "metadata": {},
   "source": [
    "Betrachten wir folgenden Ausschnitt etwas genauer:\n",
    "```python\n",
    "population = 880\n",
    "population = population+30 #Zuzug\n",
    "```\n",
    "1. Zunächst wird die Variable `population` mit Wert 880 belegt.\n",
    "1. Als nächstes wird der Wert von `population` aktualisiert gemäß dem Schema\n",
    "    * rechts von \"`=`\" Berechne den neuen Wert\n",
    "    * links von \"`=`\" Überschreibe `population` mit dem neu berechneten Wert."
   ]
  },
  {
   "cell_type": "code",
   "execution_count": null,
   "metadata": {},
   "outputs": [],
   "source": []
  },
  {
   "cell_type": "markdown",
   "metadata": {},
   "source": [
    "### Zusammengesetzte Zuweisungsoperatoren\n",
    "Python kennt sog. __zusammengesetzte__ oder __verkürzte__ __Zuweisungsoperatoren__ (Engl. \"in-place operators\"). Mit deren Hilfe kann die Zuweisung\n",
    "```python\n",
    "population = population+30\n",
    "```\n",
    "wie folgt _verkürzt_ ausgedrückt werden:\n",
    "```python\n",
    "population += 30\n",
    "```"
   ]
  },
  {
   "cell_type": "code",
   "execution_count": null,
   "metadata": {},
   "outputs": [],
   "source": []
  },
  {
   "cell_type": "markdown",
   "metadata": {},
   "source": [
    "## Aufgaben"
   ]
  },
  {
   "cell_type": "markdown",
   "metadata": {},
   "source": [
    "### 1. Aufgabe: Regentonne\n",
    "Eine Regentonne enthält 100 liter Wasser. Dieser Wert wird in `volume` gespeichert. Es ist warm und trocken, so dass 12% des Volumens verdunsten. Alsdann werden 50 Liter zwecks Bewässerung des Gartens entnommen. Welchen Wert nimmt `volume` am Ende an? "
   ]
  },
  {
   "cell_type": "code",
   "execution_count": null,
   "metadata": {},
   "outputs": [],
   "source": []
  },
  {
   "cell_type": "markdown",
   "metadata": {},
   "source": [
    "### 2. Quiz: Beziehungen zwischen Variablen\n",
    "Angenommen, wir vereinbaren die folgenden Variablen:\n",
    "```python\n",
    "carrots = 24\n",
    "rabbits = 8\n",
    "crs_per_rab = carrots/rabbits\n",
    "```\n",
    "Was passiert mit `crs_per_rab`, falls wir als nächstes die Anweisung\n",
    "```python\n",
    "rabbits = 12\n",
    "```\n",
    "einfügen? Mache dir zunächst Gedanken, welche Möglichkeit(en) plausibel wäre(n), bevor du das in Python umsetzt."
   ]
  },
  {
   "cell_type": "code",
   "execution_count": null,
   "metadata": {},
   "outputs": [],
   "source": []
  },
  {
   "cell_type": "markdown",
   "metadata": {},
   "source": [
    "### 3. Quiz: Variablenbezeichner\n",
    "Welche der folgenden Variablenbezeichner in den folgenden Zuweisungen zulässig?\n",
    "* `my_class = 20`\n",
    "* `MYCLASS = 20`\n",
    "* `1class = 20`\n",
    "* `class = 20`"
   ]
  }
 ],
 "metadata": {
  "kernelspec": {
   "display_name": "Python 3",
   "language": "python",
   "name": "python3"
  },
  "language_info": {
   "codemirror_mode": {
    "name": "ipython",
    "version": 3
   },
   "file_extension": ".py",
   "mimetype": "text/x-python",
   "name": "python",
   "nbconvert_exporter": "python",
   "pygments_lexer": "ipython3",
   "version": "3.11.6"
  }
 },
 "nbformat": 4,
 "nbformat_minor": 2
}
