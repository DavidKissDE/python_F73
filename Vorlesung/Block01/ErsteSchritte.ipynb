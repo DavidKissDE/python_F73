{
 "cells": [
  {
   "cell_type": "markdown",
   "metadata": {},
   "source": [
    "# Erste Schritte in Python"
   ]
  },
  {
   "cell_type": "markdown",
   "metadata": {},
   "source": [
    "# Jupyter Notebooks in Colab laden"
   ]
  },
  {
   "cell_type": "markdown",
   "metadata": {},
   "source": [
    "\n",
    "Was du hier siehst ist ein __Jupyter Notebook__. Ein Jupyter Notebook ist...\n",
    "1. eine Python Datei mit zusätzlichen Funktionalitäten. Jupyter Notebooks besitzen die Dateiendung `.ipynb`\n",
    "1. eine einfache __Entwicklungsumgebung__ (engl. __integrated development environment (IDE)__), d.h. ein Tool, mit dessen Hilfe man Software schreiben kann.  "
   ]
  },
  {
   "cell_type": "markdown",
   "metadata": {},
   "source": [
    "Jupyter Notebooks eignen sich perfekt zur Einführung in Python, lass uns einfach loslegen!\n",
    "* Öffne [Google Colab](https://colab.research.google.com/), ggf. musst du einen Account erstellen und dich einloggen.\n",
    "* Klicke auf `File/Open notebook`\n",
    "\n",
    "![Open Colab Notebook](assets/colab1.png)\n",
    "\n",
    "* Links Speicherort `Github` auswählen, bei \"Enter a GitHub URL\" `DavidKissDE/python_F73` eingeben und suchen.\n",
    "* Notebook `ErsteSchritte.ipynb` auswählen.\n",
    "\n",
    "![Open Colab Notebook](assets/colab2.png)\n"
   ]
  },
  {
   "cell_type": "markdown",
   "metadata": {},
   "source": [
    "# 1. Arithmetische Operationen"
   ]
  },
  {
   "cell_type": "markdown",
   "metadata": {},
   "source": [
    "## 1.1 Einführung"
   ]
  },
  {
   "cell_type": "markdown",
   "metadata": {},
   "source": [
    "### ABC \n"
   ]
  },
  {
   "cell_type": "markdown",
   "metadata": {},
   "source": [
    "\n",
    "In Python gibt es folgende arithmetische Operatoren:\n",
    "\n",
    "* `+` Addition\n",
    "* `-` Subtraktion\n",
    "* `*` Multiplikation\n",
    "* `/` Division\n",
    "* `%` Modulo (der Rest nach dem Teilen)\n",
    "* `**` Potenzierung (`^` führt in Python eine andere Operation aus!)\n",
    "* `//` Teilt und rundet auf die nächste ganze Zahl ab \n",
    "\n",
    "Es gelten die übliche Regeln für mathematische Operationen (Klammern zuerst, Punkt vor Strich, usw.).\n",
    "Drei Beispiele:\n",
    "```\n",
    ">>> print(2**3)\n",
    "8\n",
    ">>> print(10%7)\n",
    "3\n",
    ">>> print(5//2)\n",
    "2\n",
    "```\n",
    "Dieser __Codeblock__ enthält _Ein-_ und _Ausgaben_:\n",
    "* __Eingaben__ ist `>>>` vorangestellt, bspw. in `>>>print(2**3)`. \"Eingabe\" ist ein anderes Wort für (Python-)__Befehl/Anweisung__.\n",
    "* __Ausgaben__ erscheinen direkt nach der Eingabe, bspw. ist `8` das __Ergebnis__/die __Ausgabe__ der Anweisung `>>>print(2**3)`. \n",
    "* Wichtig: Falls ein Codeblock kein `>>>` enthält, so stellen sämtliche Zeilen Anweisungen dar. bspw. enthält der folgende Codeblock zwei Anweisungen:\n",
    "  ```python\n",
    "  print(2**3)\n",
    "  print(5//2)\n",
    "  ```\n",
    "  keine Sorge, die Unterscheidung zwischen diesen beiden Arten von Codeblöcken wird dir leicht fallen: \n",
    "  * entweder handelt es sich um Ein- und Ausgaben in der sog. _Kommandozeile_ \n",
    "  * oder es handelt sich um ein _Python-Skript_. \n",
    "  \n",
    "  Diese Begriffe werden im weiteren Verlauf noch geklärt.\n"
   ]
  },
  {
   "cell_type": "code",
   "execution_count": null,
   "metadata": {},
   "outputs": [],
   "source": []
  },
  {
   "cell_type": "markdown",
   "metadata": {},
   "source": [
    "### XYZ"
   ]
  },
  {
   "cell_type": "code",
   "execution_count": 1,
   "metadata": {},
   "outputs": [
    {
     "data": {
      "text/plain": [
       "3"
      ]
     },
     "execution_count": 1,
     "metadata": {},
     "output_type": "execute_result"
    }
   ],
   "source": [
    "1+2"
   ]
  },
  {
   "cell_type": "code",
   "execution_count": 2,
   "metadata": {},
   "outputs": [
    {
     "data": {
      "text/plain": [
       "8"
      ]
     },
     "execution_count": 2,
     "metadata": {},
     "output_type": "execute_result"
    }
   ],
   "source": [
    "2**3"
   ]
  },
  {
   "cell_type": "code",
   "execution_count": null,
   "metadata": {},
   "outputs": [],
   "source": []
  },
  {
   "cell_type": "code",
   "execution_count": null,
   "metadata": {},
   "outputs": [],
   "source": []
  },
  {
   "cell_type": "code",
   "execution_count": null,
   "metadata": {},
   "outputs": [],
   "source": []
  },
  {
   "cell_type": "code",
   "execution_count": null,
   "metadata": {},
   "outputs": [],
   "source": []
  }
 ],
 "metadata": {
  "kernelspec": {
   "display_name": "Python 3",
   "language": "python",
   "name": "python3"
  },
  "language_info": {
   "codemirror_mode": {
    "name": "ipython",
    "version": 3
   },
   "file_extension": ".py",
   "mimetype": "text/x-python",
   "name": "python",
   "nbconvert_exporter": "python",
   "pygments_lexer": "ipython3",
   "version": "3.11.6"
  }
 },
 "nbformat": 4,
 "nbformat_minor": 2
}
