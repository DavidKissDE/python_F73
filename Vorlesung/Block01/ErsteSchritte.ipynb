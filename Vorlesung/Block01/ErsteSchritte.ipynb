{
 "cells": [
  {
   "cell_type": "markdown",
   "metadata": {},
   "source": [
    "# Erste Schritte in Python\n",
    "\n",
    "Das hier ist ein __Jupyter Notebook__. Ein Jupyter Notebook ist\n",
    "1. eine Python Datei mit zusätzlichen Funktionalitäten. Jupyter Notebooks haben die Dateiendung `.ipynb`\n",
    "1. eine einfache __Entwicklungsumgebung__ (engl. __integrated development environment (IDE)__) = Tool, mit deren Hilfe man Software schreiben kann.  "
   ]
  },
  {
   "cell_type": "code",
   "execution_count": null,
   "metadata": {},
   "outputs": [],
   "source": []
  }
 ],
 "metadata": {
  "kernelspec": {
   "display_name": "Python 3",
   "language": "python",
   "name": "python3"
  },
  "language_info": {
   "name": "python",
   "version": "3.11.6"
  }
 },
 "nbformat": 4,
 "nbformat_minor": 2
}
