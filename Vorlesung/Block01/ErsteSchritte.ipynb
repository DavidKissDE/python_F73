{
 "cells": [
  {
   "cell_type": "markdown",
   "metadata": {},
   "source": [
    "# Erste Schritte in Python\n",
    "\n",
    "Was du hier siehst ist ein __Jupyter Notebook__. Ein Jupyter Notebook ist...\n",
    "1. eine Python Datei mit zusätzlichen Funktionalitäten. Jupyter Notebooks besitzen die Dateiendung `.ipynb`\n",
    "1. eine einfache __Entwicklungsumgebung__ (engl. __integrated development environment (IDE)__), d.h. ein Tool, mit dessen Hilfe man Software schreiben kann.  "
   ]
  },
  {
   "cell_type": "markdown",
   "metadata": {},
   "source": [
    "Jupyter Notebooks eignen sich perfekt zur Einführung in Python, lass uns einfach loslegen!\n",
    "* Öffne [Google Colab](https://colab.research.google.com/), ggf. musst du einen Account erstellen und dich einloggen.\n",
    "* Klicke auf `File/Open notebook`\n",
    "\n",
    "![Open Colab Notebook](assets/open_colab_nb.png)"
   ]
  },
  {
   "cell_type": "code",
   "execution_count": null,
   "metadata": {},
   "outputs": [],
   "source": []
  }
 ],
 "metadata": {
  "kernelspec": {
   "display_name": "Python 3",
   "language": "python",
   "name": "python3"
  },
  "language_info": {
   "name": "python",
   "version": "3.11.6"
  }
 },
 "nbformat": 4,
 "nbformat_minor": 2
}
