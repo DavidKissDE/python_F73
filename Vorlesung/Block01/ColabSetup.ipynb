{
 "cells": [
  {
   "cell_type": "markdown",
   "metadata": {},
   "source": [
    "Jupyter Notebooks in Google Colab"
   ]
  },
  {
   "cell_type": "markdown",
   "metadata": {},
   "source": [
    "\n",
    "Was du hier siehst ist ein __Jupyter Notebook__. Ein Jupyter Notebook ist...\n",
    "1. eine Python Datei mit zusätzlichen Funktionalitäten. Jupyter Notebooks besitzen die Dateiendung `.ipynb`\n",
    "1. eine einfache __Entwicklungsumgebung__ (engl. __integrated development environment (IDE)__), d.h. ein Tool, mit dessen Hilfe man Software schreiben kann.  "
   ]
  },
  {
   "cell_type": "markdown",
   "metadata": {},
   "source": [
    "Jupyter Notebooks eignen sich perfekt zur Einführung in Python, lass uns einfach loslegen!\n",
    "* Öffne [Google Colab](https://colab.research.google.com/), ggf. musst du einen Account erstellen und dich einloggen.\n",
    "* Klicke auf `File/Open notebook`\n",
    "\n",
    "![Open Colab Notebook](assets/colab1.png)\n",
    "\n",
    "* Links Speicherort `Github` auswählen, bei \"Enter a GitHub URL\" `DavidKissDE/python_F73` eingeben und suchen.\n",
    "* Notebook `GrundlegendeDatentypen.ipynb`  auswählen.\n",
    "\n",
    "![Open Colab Notebook](assets/colab2.png)\n"
   ]
  }
 ],
 "metadata": {
  "kernelspec": {
   "display_name": "Python 3",
   "language": "python",
   "name": "python3"
  },
  "language_info": {
   "name": "python",
   "version": "3.11.6"
  }
 },
 "nbformat": 4,
 "nbformat_minor": 2
}
